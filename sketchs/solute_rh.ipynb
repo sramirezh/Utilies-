{
 "metadata": {
  "language_info": {
   "codemirror_mode": {
    "name": "ipython",
    "version": 3
   },
   "file_extension": ".py",
   "mimetype": "text/x-python",
   "name": "python",
   "nbconvert_exporter": "python",
   "pygments_lexer": "ipython3",
   "version": "3.7.4-final"
  },
  "orig_nbformat": 2,
  "kernelspec": {
   "name": "python3",
   "display_name": "Python 3"
  }
 },
 "nbformat": 4,
 "nbformat_minor": 2,
 "cells": [
  {
   "cell_type": "markdown",
   "metadata": {},
   "source": [
    "# Estimation of the solute hydrodynamic radius \n",
    "Based on Shin, S. et al. (2016) ‘Size-dependent control of colloid transport via solute gradients in dead-end channels’, Proceedings of the National Academy of Sciences, 113(2), pp. 257–261. doi: 10.1073/pnas.1511484112.\n",
    "\n",
    "From the supplementary information we know:\n",
    "\n",
    "$\\eta = 0.9 \\, mPa \\cdot s$ @ $T=298K$\n",
    "\n",
    "The diffusivity of the solutes is \n",
    "\n",
    "$D_s = 1.5 \\times 10^{-9} \\frac{m^2}{s}$\n",
    "\n",
    "So we can use the Stokes-Einstein relation to estimate the hydrodynamic radius $R_h$\n",
    "\n",
    "$D = \\frac{k_BT}{6\\pi\\eta R_h}$\n",
    "\n",
    "with $k_B =1.38064852 × 10^{-23} m^2 kg s^{-2} K^{-1}$\n",
    "\n"
   ]
  },
  {
   "cell_type": "code",
   "execution_count": 6,
   "metadata": {},
   "outputs": [],
   "source": [
    "import numpy as np\n",
    "k_B = 1.38064852*10**-23\n",
    "eta = 0.9*10**-3\n",
    "T=298"
   ]
  },
  {
   "cell_type": "markdown",
   "metadata": {},
   "source": [
    "Just to test, we reproduce one of the results from the table in the SI\n",
    "\n",
    "for a diameter of 0.06 $\\mu m$, the diffusivity is $D=8.5 \\mu m^2/s) \n"
   ]
  },
  {
   "cell_type": "code",
   "execution_count": 12,
   "metadata": {},
   "outputs": [
    {
     "output_type": "execute_result",
     "data": {
      "text/plain": "8.08415270566566"
     },
     "metadata": {},
     "execution_count": 12
    }
   ],
   "source": [
    "r = 0.06/2 *10**-6\n",
    "D = k_B*T/(6*np.pi*eta*r) # in m^2/s\n",
    "D = D/(10**-6)**2\n",
    "D"
   ]
  },
  {
   "cell_type": "markdown",
   "metadata": {},
   "source": [
    "The difference might be due to the rounding of the radius, but it does not matter, it is of the same order.\n",
    "Now to estimate our solutes, the main text under \"Experimental setup\" states that $D_s = 1.5 \\times 10^{-9} \\frac{m^2}{s}$\n"
   ]
  },
  {
   "cell_type": "code",
   "execution_count": 18,
   "metadata": {
    "tags": []
   },
   "outputs": [
    {
     "output_type": "stream",
     "name": "stdout",
     "text": "The hydrodynamic radius of the solute is 1.616831 Angstroms\n"
    }
   ],
   "source": [
    "D_s =1.5*10**-9\n",
    "R_s = k_B*T/(6*np.pi*eta*D_s)\n",
    "R_s =R_s/10**-10 # in Angstrtoms\n",
    "print(\"The hydrodynamic radius of the solute is %f Angstroms\"%R_s)"
   ]
  },
  {
   "cell_type": "markdown",
   "metadata": {},
   "source": [
    "From https://chm.davidson.edu/vce/Crystals/NaCl.html\n",
    "\n",
    "The ionic radius of the sodium ion is 1.16 Å and that of the chloride ion is 1.67 Å.\n",
    "\n"
   ]
  }
 ]
}