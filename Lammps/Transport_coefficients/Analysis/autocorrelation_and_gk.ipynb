{
 "cells": [
  {
   "cell_type": "markdown",
   "metadata": {},
   "source": [
    "In this notebook I will develop and test \n",
    "\n",
    "\n",
    "Test for the autocorrelation function\n",
    "http://lab.pdebuyl.be/tidynamics/auto_examples/plot_acf_1.html"
   ]
  },
  {
   "cell_type": "code",
   "execution_count": null,
   "metadata": {},
   "outputs": [],
   "source": [
    "import numpy as np\n",
    "import matplotlib.pyplot as plt\n",
    "from scipy.stats import sem\n",
    "from statsmodels.tsa.stattools import acf\n",
    "\n",
    "# Generate data for a Ornstein-Uhlenbeck process\n",
    "\n",
    "gamma = 2.7\n",
    "T = 0.1\n",
    "dt = 0.02\n",
    "v_factor = np.sqrt(2*T*gamma*dt)\n",
    "\n",
    "N = 32768\n",
    "v = 0\n",
    "for i in range(100):\n",
    "    noise_force = v_factor*np.random.normal()\n",
    "    v = v - gamma*v*dt + noise_force\n",
    "\n",
    "v_data = []\n",
    "noise_data = []\n",
    "\n",
    "for i in range(N):\n",
    "    noise_force = v_factor*np.random.normal()\n",
    "    v = v - gamma*v*dt + noise_force\n",
    "    v_data.append(v)\n",
    "    noise_data.append(noise_force)\n",
    "v_data = np.array(v_data)\n",
    "noise_data = np.array(noise_data)/np.sqrt(dt)\n",
    "\n",
    "\n",
    "\n",
    "\n",
    "# Compute the autocorrelation function and plot the result\n",
    "\n",
    "#acf = tidynamics.acf(v_data)[:N//64]\n",
    "\n",
    "\n",
    "amplitude  = np.correlate(v_data,v_data)/len(v_data)\n",
    "time = np.arange(N//64)*dt\n",
    "acf_num = amplitude * acf(v_data, nlags = len(time)-1)\n",
    "\n",
    "plt.close('all')\n",
    "\n",
    "\n",
    "\n",
    "plt.plot(time, acf_num, label='VACF (num.)')\n",
    "plt.plot(time, T*np.exp(-gamma*time), label='VACF (theo.)')\n",
    "\n",
    "plt.legend(loc = 'top right')\n",
    "plt.title('Velocity autocorrelation')\n",
    "plt.xlabel(r'$\\tau$')\n",
    "plt.ylabel(r'$\\langle v(t) v(t+\\tau) \\rangle$')\n",
    "plt.show()"
   ]
  }
 ],
 "metadata": {
  "kernelspec": {
   "display_name": "Python 3",
   "language": "python",
   "name": "python3"
  },
  "language_info": {
   "codemirror_mode": {
    "name": "ipython",
    "version": 3
   },
   "file_extension": ".py",
   "mimetype": "text/x-python",
   "name": "python",
   "nbconvert_exporter": "python",
   "pygments_lexer": "ipython3",
   "version": "3.7.4"
  },
  "varInspector": {
   "cols": {
    "lenName": 16,
    "lenType": 16,
    "lenVar": 40
   },
   "kernels_config": {
    "python": {
     "delete_cmd_postfix": "",
     "delete_cmd_prefix": "del ",
     "library": "var_list.py",
     "varRefreshCmd": "print(var_dic_list())"
    },
    "r": {
     "delete_cmd_postfix": ") ",
     "delete_cmd_prefix": "rm(",
     "library": "var_list.r",
     "varRefreshCmd": "cat(var_dic_list()) "
    }
   },
   "types_to_exclude": [
    "module",
    "function",
    "builtin_function_or_method",
    "instance",
    "_Feature"
   ],
   "window_display": true
  }
 },
 "nbformat": 4,
 "nbformat_minor": 2
}
