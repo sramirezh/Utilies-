{
 "cells": [
  {
   "cell_type": "markdown",
   "metadata": {},
   "source": [
    "# A bit of theory \n",
    "\n",
    "For a flat plate, with a concentration gradient $\\alpha$ in the $x$ direction the results obtained by Derjaguin and found in \\cite{Anderson89}, depends explicitly on the potential mean field $\\phi(h)$ felt by the solutes at a distance $h$ from the plate. The slip velocity ($U_s$) is given by:\n",
    "\n",
    "\n",
    "$U_s(h)=-\\frac{\\alpha }{\\beta \\eta} \\int_0^\\infty h[\\exp[{-\\beta \\phi(h) } ]-1] dh$\n",
    "\n",
    "The surface excess concentration is defined as \\cite{Anderson1984}\n",
    "$\\Gamma=\\int_0^\\infty[c_s(h)-c_s^B] dh$\n",
    "\n",
    "defining the solute adsorption length $K$  as the area under the excess-concentration profile, thus\n",
    "\n",
    "$K=\\frac{1}{c_s^B}\\int_0^\\infty[c_s(h)-c_s^B] dh$\n",
    "\n",
    "$K=\\int_0^\\infty [\\exp[{-\\beta \\phi(h) } ]-1] dh$\n",
    "\n",
    "Also a characteristic length $L^*$,\n",
    "\n",
    "$L^*=K^{-1} \\int_0^\\infty h[\\exp[{-\\beta \\phi(h) } ]-1] dh$\n",
    "\n",
    "With the previous definitions, we can write the  slip velocity in terms of $K$ and $L^*$ as \n",
    "\n",
    "$U_s=-\\frac{\\alpha }{\\beta \\eta} KL^* = -\\frac{KL^* }{\\eta}c_s^B \\nabla \\mu_s$\n",
    "\n",
    "\"The applicability of continuum mechanics could be questioned if $L^*< 10$ angstroms, but thermodynamics leaves no doubt that a solute gradient will cause flow. In addition, there are two other implicit assumptions: The surface is smooth, and there are no kinetic barriers to the adsorption and desorption of solute\" \\cite{Anderson1984}.\\\\\n",
    "\n",
    "Last equation shows that \"even though $K$ may be large, if the solute were actually adsorbed on the surface rather than in a diffuse layer then $L^*$ and $U_s$ vanish. It is not enough for the adsorption to be strong; the adsorbed layer must extend several solute diameters away from the surface to achieve meaningful velocities\" \\cite{Anderson1984}.\\\\ THE LAST IS PARAPHRASED HERE\n",
    "\n",
    "Notice in Equation \\ref{eq:flatplate} that even for large $K$, i.e when there is strong adsorption of solutes, if $L^*$ is not large enough therefore the diffusiophoretic velocities are negligible because what generates phoretic motion is the flow of the excess of solutes around the particles and not the immobile solutes adsorbed at the surface as discussed in previous section.\n",
    "\n",
    "\n",
    "K can be obtained experimentally by equilibrium adsorption studies \\cite{Anderson1984} and could be interpreted as the thickness of a bulk solution layer that has to be stripped of solute to account for the excess $\\Gamma$.\n",
    "First, it is a mass-equivalent length and not a physical length. Second, the magnitude of K is a measure of the strength of adsorption: $K >> L$ means the solute strongly adsorbs. It is not uncommon for $K$ to be as large as 1 micrometer \\cite{Anderson1984}.\\\\"
   ]
  },
  {
   "cell_type": "markdown",
   "metadata": {},
   "source": [
    "In Hiroaki et al, the"
   ]
  },
  {
   "cell_type": "markdown",
   "metadata": {},
   "source": []
  },
  {
   "cell_type": "code",
   "execution_count": null,
   "metadata": {},
   "outputs": [],
   "source": []
  },
  {
   "cell_type": "code",
   "execution_count": null,
   "metadata": {},
   "outputs": [],
   "source": []
  }
 ],
 "metadata": {
  "language_info": {
   "codemirror_mode": {
    "name": "ipython",
    "version": 3
   },
   "file_extension": ".py",
   "mimetype": "text/x-python",
   "name": "python",
   "nbconvert_exporter": "python",
   "pygments_lexer": "ipython3",
   "version": 3
  },
  "orig_nbformat": 2
 },
 "nbformat": 4,
 "nbformat_minor": 2
}